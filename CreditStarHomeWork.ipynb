{
 "cells": [
  {
   "cell_type": "code",
   "execution_count": 1,
   "id": "9556a797",
   "metadata": {},
   "outputs": [],
   "source": [
    "#!pip install psycopg2\n",
    "#!pip install boto3\n",
    "#!pip install sqlalchemy\n",
    "#!conda install -c conda-forge ipython-sql\n",
    "\n",
    "#!pip install sqlalchemy==1.3.24\n",
    "#!pip install --upgrade ipython-sql\n",
    "#!pip install pandas\n"
   ]
  },
  {
   "cell_type": "code",
   "execution_count": 18,
   "id": "d8ddb6f7",
   "metadata": {},
   "outputs": [],
   "source": [
    "# import neccessary for Database connection\n",
    "\n",
    "import psycopg2\n",
    "import sqlalchemy as sa\n",
    "import boto3\n",
    "\n",
    "import pandas as pd"
   ]
  },
  {
   "cell_type": "code",
   "execution_count": null,
   "id": "1a38accd",
   "metadata": {},
   "outputs": [],
   "source": []
  },
  {
   "cell_type": "code",
   "execution_count": null,
   "id": "bf59f347",
   "metadata": {},
   "outputs": [],
   "source": []
  },
  {
   "cell_type": "code",
   "execution_count": null,
   "id": "557cd90c",
   "metadata": {},
   "outputs": [],
   "source": []
  },
  {
   "cell_type": "code",
   "execution_count": 19,
   "id": "23ae63a9",
   "metadata": {},
   "outputs": [],
   "source": [
    "conn = psycopg2.connect(\n",
    "    host=\"localhost\",\n",
    "    database=\"postgres\",\n",
    "    user=\"niyi\",\n",
    "    password=\"Xingjin112\"\n",
    ")\n"
   ]
  },
  {
   "cell_type": "code",
   "execution_count": 20,
   "id": "0002ae0c",
   "metadata": {},
   "outputs": [],
   "source": [
    "cursor = conn.cursor()"
   ]
  },
  {
   "cell_type": "code",
   "execution_count": 21,
   "id": "98de76bd",
   "metadata": {},
   "outputs": [
    {
     "name": "stdout",
     "output_type": "stream",
     "text": [
      "wal_level is: replica\n"
     ]
    }
   ],
   "source": [
    "# Execute the SQL command\n",
    "cursor.execute(\"SHOW wal_level;\")\n",
    "\n",
    "# Fetch the result\n",
    "wal_level = cursor.fetchone()[0]\n",
    "print(\"wal_level is:\", wal_level)\n"
   ]
  },
  {
   "cell_type": "code",
   "execution_count": null,
   "id": "8a0badf1",
   "metadata": {},
   "outputs": [],
   "source": []
  },
  {
   "cell_type": "code",
   "execution_count": 5,
   "id": "ce9edce2",
   "metadata": {},
   "outputs": [
    {
     "name": "stdout",
     "output_type": "stream",
     "text": [
      "   amount  client_id  created_on  duration  id  matured_on       status  \\\n",
      "0   800.0          1  2019-01-07        26   1  2019-02-02      overdue   \n",
      "1  1000.0          2  2019-01-30        26   2        None  application   \n",
      "2   900.0          3  2019-01-18        30   3  2019-02-17         paid   \n",
      "3  1100.0          4  2019-01-16        27   4  2019-02-12         paid   \n",
      "\n",
      "   updated_on  \n",
      "0  2019-04-08  \n",
      "1  2019-01-30  \n",
      "2  2019-02-17  \n",
      "3  2019-02-12  \n"
     ]
    }
   ],
   "source": [
    "# table 1 loan\n",
    "\n",
    "cursor.execute(\"SELECT * FROM loan LIMIT 4\")\n",
    "rows = cursor.fetchall()\n",
    "\n",
    "# Get column names\n",
    "column_names = [desc[0] for desc in cursor.description]\n",
    "\n",
    "# Convert to DataFrame\n",
    "df = pd.DataFrame(rows, columns=column_names)\n",
    "\n",
    "# Display the DataFrame\n",
    "print(df)"
   ]
  },
  {
   "cell_type": "code",
   "execution_count": 6,
   "id": "2321a4e4",
   "metadata": {},
   "outputs": [
    {
     "name": "stdout",
     "output_type": "stream",
     "text": [
      "   id  loan_id  amount  principle  interest   status  created_on\n",
      "0   1        3  1151.0      900.0     251.0  on_time  2019-02-17\n",
      "1   2        4  1376.0     1100.0     276.0  on_time  2019-02-12\n",
      "2   3        7  1023.0      800.0     223.0  on_time  2019-02-19\n",
      "3   4        8  1862.0     1500.0     362.0  on_time  2019-02-09\n"
     ]
    }
   ],
   "source": [
    "# table 2 payment\n",
    "\n",
    "cursor.execute(\"SELECT * FROM payment LIMIT 4\")\n",
    "rows = cursor.fetchall()\n",
    "\n",
    "# Get column names\n",
    "column_names = [desc[0] for desc in cursor.description]\n",
    "\n",
    "# Convert to DataFrame\n",
    "df2 = pd.DataFrame(rows, columns=column_names)\n",
    "\n",
    "# Display the DataFrame\n",
    "print(df2)"
   ]
  },
  {
   "cell_type": "code",
   "execution_count": 11,
   "id": "258fcbe3",
   "metadata": {},
   "outputs": [
    {
     "ename": "InterfaceError",
     "evalue": "connection already closed",
     "output_type": "error",
     "traceback": [
      "\u001b[0;31m---------------------------------------------------------------------------\u001b[0m",
      "\u001b[0;31mInterfaceError\u001b[0m                            Traceback (most recent call last)",
      "Cell \u001b[0;32mIn[11], line 1\u001b[0m\n\u001b[0;32m----> 1\u001b[0m \u001b[43mconn\u001b[49m\u001b[38;5;241;43m.\u001b[39;49m\u001b[43mrollback\u001b[49m\u001b[43m(\u001b[49m\u001b[43m)\u001b[49m\n",
      "\u001b[0;31mInterfaceError\u001b[0m: connection already closed"
     ]
    }
   ],
   "source": [
    "conn.rollback()\n"
   ]
  },
  {
   "cell_type": "code",
   "execution_count": 14,
   "id": "3c09bf0e",
   "metadata": {},
   "outputs": [
    {
     "name": "stdout",
     "output_type": "stream",
     "text": [
      "    id  created_on   first_name  last_name  birth_date personal_code\n",
      "0    1  2019-01-07  Christopher      Lewis  1956-10-18   510-50-5907\n",
      "1    2  2019-01-30       Donald     Thomas  1949-03-28   344-17-0576\n",
      "2    3  2019-01-18       Andrew    Hammond  1986-08-01   828-15-1226\n",
      "3    4  2019-01-16         Erin     Bright  1956-06-12   004-21-5489\n",
      "4    5  2019-01-18  Christopher     Sawyer  2002-05-13   708-98-5029\n",
      "5    6  2019-01-09         Sean      Wiley  1998-04-25   857-14-5314\n",
      "6    7  2019-01-20        Laura   Stephens  1994-12-23   315-46-6240\n",
      "7    8  2019-01-14        Scott  Rasmussen  1939-06-25   484-45-7795\n",
      "8    9  2019-01-31       Lauren  Macdonald  1995-06-19   395-54-8457\n",
      "9   10  2019-01-23     Danielle       Diaz  1944-04-16   291-02-0157\n",
      "10  11  2019-01-31         John    Sanders  1988-09-04   015-83-0172\n",
      "11  12  2019-01-30      Kenneth      Roach  1999-05-10   798-51-3203\n",
      "12  13  2019-01-22        Laura    Swanson  1939-05-06   300-62-6080\n",
      "13  14  2019-01-12        Nancy      Brown  1931-06-06   305-51-2154\n",
      "14  15  2019-01-03       Andrea       Boyd  1978-12-28   127-79-4443\n",
      "connection done but not closed\n"
     ]
    }
   ],
   "source": [
    "# table 3: user\n",
    "# table 3: user\n",
    "\n",
    "cursor = conn.cursor()\n",
    "try:\n",
    "    cursor.execute('SELECT * FROM \"user\" LIMIT 15')  # Use double quotes around 'user'\n",
    "    rows = cursor.fetchall()\n",
    "\n",
    "    # Get column names\n",
    "    column_names = [desc[0] for desc in cursor.description]\n",
    "\n",
    "    # Convert to DataFrame\n",
    "    df = pd.DataFrame(rows, columns=column_names)\n",
    "\n",
    "    # Display the DataFrame\n",
    "    print(df)\n",
    "\n",
    "except Exception as e:\n",
    "    print(f\"Error: {e}\")\n",
    "    conn.rollback()  # Rollback the transaction\n",
    "finally:\n",
    "    #cursor.close()\n",
    "    #conn.close()\n",
    "    print('connection done but not closed')"
   ]
  },
  {
   "cell_type": "code",
   "execution_count": null,
   "id": "c283ca05",
   "metadata": {},
   "outputs": [],
   "source": [
    "# creating a pglogical to monitor changes in the tables loan, payment, user.\n",
    "\n",
    "\n",
    "CREATE PUBLICATION my_publication FOR TABLE loan, payment, user;\n",
    "\n"
   ]
  },
  {
   "cell_type": "code",
   "execution_count": null,
   "id": "0ad34da2",
   "metadata": {},
   "outputs": [],
   "source": [
    "# check its existence\n",
    "SELECT * FROM pg_publication;\n"
   ]
  },
  {
   "cell_type": "code",
   "execution_count": null,
   "id": "262d7ad4",
   "metadata": {},
   "outputs": [],
   "source": []
  },
  {
   "cell_type": "code",
   "execution_count": null,
   "id": "3ba9e82e",
   "metadata": {},
   "outputs": [],
   "source": []
  },
  {
   "cell_type": "code",
   "execution_count": null,
   "id": "ce790633",
   "metadata": {},
   "outputs": [],
   "source": []
  },
  {
   "cell_type": "code",
   "execution_count": 10,
   "id": "95fb12dd",
   "metadata": {},
   "outputs": [
    {
     "ename": "InterfaceError",
     "evalue": "cursor already closed",
     "output_type": "error",
     "traceback": [
      "\u001b[0;31m---------------------------------------------------------------------------\u001b[0m",
      "\u001b[0;31mInterfaceError\u001b[0m                            Traceback (most recent call last)",
      "Cell \u001b[0;32mIn[10], line 1\u001b[0m\n\u001b[0;32m----> 1\u001b[0m \u001b[43mcursor\u001b[49m\u001b[38;5;241;43m.\u001b[39;49m\u001b[43mfetchall\u001b[49m\u001b[43m(\u001b[49m\u001b[43m)\u001b[49m\n",
      "\u001b[0;31mInterfaceError\u001b[0m: cursor already closed"
     ]
    }
   ],
   "source": [
    "#cursor.fetchall()"
   ]
  },
  {
   "cell_type": "code",
   "execution_count": null,
   "id": "f10a71f4",
   "metadata": {},
   "outputs": [],
   "source": [
    "cursor.close()\n",
    "conn.close()\n"
   ]
  },
  {
   "cell_type": "code",
   "execution_count": null,
   "id": "f11dfa58",
   "metadata": {},
   "outputs": [],
   "source": []
  },
  {
   "cell_type": "code",
   "execution_count": null,
   "id": "4dc11b39",
   "metadata": {},
   "outputs": [],
   "source": []
  },
  {
   "cell_type": "code",
   "execution_count": null,
   "id": "d01d81e0",
   "metadata": {},
   "outputs": [],
   "source": []
  }
 ],
 "metadata": {
  "kernelspec": {
   "display_name": "Python 3 (ipykernel)",
   "language": "python",
   "name": "python3"
  },
  "language_info": {
   "codemirror_mode": {
    "name": "ipython",
    "version": 3
   },
   "file_extension": ".py",
   "mimetype": "text/x-python",
   "name": "python",
   "nbconvert_exporter": "python",
   "pygments_lexer": "ipython3",
   "version": "3.10.10"
  }
 },
 "nbformat": 4,
 "nbformat_minor": 5
}
